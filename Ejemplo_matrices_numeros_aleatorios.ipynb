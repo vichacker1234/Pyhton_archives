{
  "nbformat": 4,
  "nbformat_minor": 0,
  "metadata": {
    "colab": {
      "name": "Ejemplo_matrices_numeros_aleatorios.ipynb",
      "provenance": [],
      "collapsed_sections": [],
      "authorship_tag": "ABX9TyP9Taq0Y6ZwzSQwkyF0nE1q",
      "include_colab_link": true
    },
    "kernelspec": {
      "name": "python3",
      "display_name": "Python 3"
    },
    "language_info": {
      "name": "python"
    }
  },
  "cells": [
    {
      "cell_type": "markdown",
      "metadata": {
        "id": "view-in-github",
        "colab_type": "text"
      },
      "source": [
        "<a href=\"https://colab.research.google.com/github/vichacker1234/Pyhton_archives/blob/main/Ejemplo_matrices_numeros_aleatorios.ipynb\" target=\"_parent\"><img src=\"https://colab.research.google.com/assets/colab-badge.svg\" alt=\"Open In Colab\"/></a>"
      ]
    },
    {
      "cell_type": "markdown",
      "source": [
        "**EJEMPLO CON MATRICES**\n",
        "\n",
        "\n",
        "\n"
      ],
      "metadata": {
        "id": "uL_ngfUGhhtb"
      }
    },
    {
      "cell_type": "code",
      "execution_count": 1,
      "metadata": {
        "id": "MUEYnEa5hgHm"
      },
      "outputs": [],
      "source": [
        "#imprtar la librería numpy\n",
        "import numpy as np "
      ]
    },
    {
      "cell_type": "code",
      "source": [
        "#Definir la matriz A\n",
        "A=np.matrix([[1,2,3],[4,5,6],[7,8,9]])\n",
        "#Mostrar la matriz\n",
        "print(A)\n",
        "#Multiplicación por esclar\n",
        "3*A"
      ],
      "metadata": {
        "colab": {
          "base_uri": "https://localhost:8080/"
        },
        "id": "STzZrj2liBey",
        "outputId": "009d0161-c9f6-44e9-898a-df0cf0a612a4"
      },
      "execution_count": 3,
      "outputs": [
        {
          "output_type": "stream",
          "name": "stdout",
          "text": [
            "[[1 2 3]\n",
            " [4 5 6]\n",
            " [7 8 9]]\n"
          ]
        },
        {
          "output_type": "execute_result",
          "data": {
            "text/plain": [
              "matrix([[ 3,  6,  9],\n",
              "        [12, 15, 18],\n",
              "        [21, 24, 27]])"
            ]
          },
          "metadata": {},
          "execution_count": 3
        }
      ]
    },
    {
      "cell_type": "code",
      "source": [
        "#elementos de una matriz\n",
        "R=np.matrix([[1,2,3],[4,5,6],[7,8,9]])\n",
        "print(R)\n",
        "print(R[1,1])"
      ],
      "metadata": {
        "colab": {
          "base_uri": "https://localhost:8080/"
        },
        "id": "1o2tzh41j5UF",
        "outputId": "a04e22c0-a31d-4b55-d120-370f8110aaf5"
      },
      "execution_count": 7,
      "outputs": [
        {
          "output_type": "stream",
          "name": "stdout",
          "text": [
            "[[1 2 3]\n",
            " [4 5 6]\n",
            " [7 8 9]]\n",
            "5\n"
          ]
        }
      ]
    },
    {
      "cell_type": "markdown",
      "source": [
        "**OPERACIONES MATEMÁTICAS BÁSICAS**"
      ],
      "metadata": {
        "id": "HelcApcBk1oI"
      }
    },
    {
      "cell_type": "markdown",
      "source": [
        ""
      ],
      "metadata": {
        "id": "J-6ayAItk1k3"
      }
    },
    {
      "cell_type": "code",
      "source": [
        "#Operaciones básicas en python con la librería mt\n",
        "import math as mt\n",
        "a=mt.sqrt(64)\n",
        "print(a)\n",
        "b=mt.sqrt(4)\n",
        "print(b)\n",
        "c=mt.log10(10000)\n",
        "print(c)"
      ],
      "metadata": {
        "colab": {
          "base_uri": "https://localhost:8080/"
        },
        "id": "IF2C5_YHjp1I",
        "outputId": "41555215-1fa1-489d-eaa3-b4b9af5cdb75"
      },
      "execution_count": 6,
      "outputs": [
        {
          "output_type": "stream",
          "name": "stdout",
          "text": [
            "8.0\n",
            "2.0\n",
            "4.0\n"
          ]
        }
      ]
    },
    {
      "cell_type": "markdown",
      "source": [
        "**GENERACIÓN DE NÚMEROS ALEATORIOS**"
      ],
      "metadata": {
        "id": "WzO7eBpflDLe"
      }
    },
    {
      "cell_type": "code",
      "source": [
        "#Importar la librería random\n",
        "import random as rd\n",
        "#genera un número aleatorio\n",
        "rd.random()"
      ],
      "metadata": {
        "colab": {
          "base_uri": "https://localhost:8080/"
        },
        "id": "aeOTj_nUlCFv",
        "outputId": "cf115a8d-a8c5-4332-f230-0abd232467b4"
      },
      "execution_count": 27,
      "outputs": [
        {
          "output_type": "execute_result",
          "data": {
            "text/plain": [
              "0.9495377629163707"
            ]
          },
          "metadata": {},
          "execution_count": 27
        }
      ]
    },
    {
      "cell_type": "code",
      "source": [
        "#uso del for y números \n",
        "rd.seed(1596)\n",
        "y=[None]*10\n",
        "for i in range(10):\n",
        "    y[i]=rd.random()\n",
        "    print(y[i])"
      ],
      "metadata": {
        "colab": {
          "base_uri": "https://localhost:8080/"
        },
        "id": "ee5IM26Cl8RP",
        "outputId": "e9fa58d4-4855-4e9f-dc5c-cad2311521e4"
      },
      "execution_count": 18,
      "outputs": [
        {
          "output_type": "stream",
          "name": "stdout",
          "text": [
            "0.11115389505961426\n",
            "0.567263325980188\n",
            "0.3917222534864804\n",
            "0.2313102271208649\n",
            "0.1708570634850467\n",
            "0.6792081287495434\n",
            "0.9279126302609739\n",
            "0.4978019521975907\n",
            "0.7818061248797941\n",
            "0.5041229303084376\n"
          ]
        }
      ]
    },
    {
      "cell_type": "code",
      "source": [
        "rd.seed(1596)\n",
        "y[3]"
      ],
      "metadata": {
        "colab": {
          "base_uri": "https://localhost:8080/"
        },
        "id": "oxGNooPMmZkH",
        "outputId": "9a08bf82-6115-4d91-9526-4f5c6558fa66"
      },
      "execution_count": 19,
      "outputs": [
        {
          "output_type": "execute_result",
          "data": {
            "text/plain": [
              "0.2313102271208649"
            ]
          },
          "metadata": {},
          "execution_count": 19
        }
      ]
    },
    {
      "cell_type": "code",
      "source": [
        "#Otro ejemplo para números aleatorios \n",
        "#genera números aleatorios entre 50 y 100\n",
        "rd.seed(1596)\n",
        "x=[None]*10\n",
        "min=50; max=100\n",
        "for indice in range(10):\n",
        "    x[indice]=min +max*rd.random()%(max-min+1)\n",
        "    print(x[indice])\n",
        "    "
      ],
      "metadata": {
        "colab": {
          "base_uri": "https://localhost:8080/"
        },
        "id": "VYyMbfkcoaSn",
        "outputId": "5ea5241b-315a-49a0-fb4d-30d456549862"
      },
      "execution_count": 23,
      "outputs": [
        {
          "output_type": "stream",
          "name": "stdout",
          "text": [
            "61.115389505961424\n",
            "55.7263325980188\n",
            "89.17222534864804\n",
            "73.13102271208649\n",
            "67.08570634850467\n",
            "66.92081287495434\n",
            "91.7912630260974\n",
            "99.78019521975907\n",
            "77.1806124879794\n",
            "100.41229303084376\n"
          ]
        }
      ]
    },
    {
      "cell_type": "code",
      "source": [
        "#Matriz de ceros y números aleatorios\n",
        "ceros=np.zeros((4,5)) #matriz de ceros (4x5)\n",
        "print(ceros)"
      ],
      "metadata": {
        "colab": {
          "base_uri": "https://localhost:8080/"
        },
        "id": "BtWOeabiqlR_",
        "outputId": "c3f70a66-af22-40c6-94be-666fb245d563"
      },
      "execution_count": 28,
      "outputs": [
        {
          "output_type": "stream",
          "name": "stdout",
          "text": [
            "[[0. 0. 0. 0. 0.]\n",
            " [0. 0. 0. 0. 0.]\n",
            " [0. 0. 0. 0. 0.]\n",
            " [0. 0. 0. 0. 0.]]\n"
          ]
        }
      ]
    },
    {
      "cell_type": "markdown",
      "source": [
        "**Construcción de una matriz con números aleatorios**"
      ],
      "metadata": {
        "id": "5H243doyVpe1"
      }
    },
    {
      "cell_type": "code",
      "source": [
        "#Matriz con números aleatorios\n",
        "aleatorios=np.random.random((4,4))# matriz con numeros aleatorios\n",
        "print(aleatorios)"
      ],
      "metadata": {
        "colab": {
          "base_uri": "https://localhost:8080/"
        },
        "id": "QmINIDQ4s6_8",
        "outputId": "8f454b27-f4e1-4f58-9509-e1c40ab319e9"
      },
      "execution_count": 31,
      "outputs": [
        {
          "output_type": "stream",
          "name": "stdout",
          "text": [
            "[[0.647861   0.00789231 0.43772772 0.74238607]\n",
            " [0.90050403 0.51949823 0.33171465 0.31639708]\n",
            " [0.28221014 0.32829107 0.08348688 0.99517964]\n",
            " [0.64078938 0.54315115 0.22015156 0.5194213 ]]\n"
          ]
        }
      ]
    }
  ]
}