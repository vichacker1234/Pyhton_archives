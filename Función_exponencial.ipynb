{
  "nbformat": 4,
  "nbformat_minor": 0,
  "metadata": {
    "colab": {
      "name": "Función_exponencial.ipynb",
      "provenance": [],
      "collapsed_sections": [],
      "authorship_tag": "ABX9TyNH1qJLEXvIj33sF2mO1Tiq",
      "include_colab_link": true
    },
    "kernelspec": {
      "name": "python3",
      "display_name": "Python 3"
    },
    "language_info": {
      "name": "python"
    },
    "accelerator": "GPU",
    "gpuClass": "standard"
  },
  "cells": [
    {
      "cell_type": "markdown",
      "metadata": {
        "id": "view-in-github",
        "colab_type": "text"
      },
      "source": [
        "<a href=\"https://colab.research.google.com/github/vichacker1234/Pyhton_archives/blob/main/Funci%C3%B3n_exponencial.ipynb\" target=\"_parent\"><img src=\"https://colab.research.google.com/assets/colab-badge.svg\" alt=\"Open In Colab\"/></a>"
      ]
    },
    {
      "cell_type": "markdown",
      "source": [
        "##Gráfica de la función exponencial (Ejemplo)"
      ],
      "metadata": {
        "id": "wJLtK_Ojacqi"
      }
    },
    {
      "cell_type": "code",
      "execution_count": 11,
      "metadata": {
        "colab": {
          "base_uri": "https://localhost:8080/",
          "height": 315
        },
        "id": "0ArZiZNoX-cf",
        "outputId": "7bc04153-371e-46c8-edf0-60a77d7b1eb8"
      },
      "outputs": [
        {
          "output_type": "execute_result",
          "data": {
            "text/plain": [
              "<function matplotlib.pyplot.show>"
            ]
          },
          "metadata": {},
          "execution_count": 11
        },
        {
          "output_type": "display_data",
          "data": {
            "text/plain": [
              "<Figure size 432x288 with 1 Axes>"
            ],
            "image/png": "[encoded data removed]"
          },
          "metadata": {
            "needs_background": "light"
          }
        }
      ],
      "source": [
        "#Cargar la librería matplotlib\n",
        "import matplotlib.pyplot as plt\n",
        "import numpy as np\n",
        "#Definir los límites de x\n",
        "x=np.linspace(0,10,100)\n",
        "#Definir la función en y \n",
        "y=np.exp(-x)\n",
        "plt.plot(x,y,color=\"green\")\n",
        "plt.xlabel(\"valores de x\")\n",
        "plt.ylabel(\"$f(x)$\")\n",
        "plt.title(\"$f(x)=e^{-x}$\")\n",
        "plt.show"
      ]
    },
    {
      "cell_type": "code",
      "source": [
        "#Definir los límites de x\n",
        "x=np.linspace(0,10,100)\n",
        "#Definir la función en y \n",
        "y=np.exp(2*x)\n",
        "plt.plot(x,y)\n",
        "plt.title(\"$g(x)=e^{2x}$\")\n",
        "plt.xlabel(\"valores de x\")\n",
        "plt.ylabel(\"$g(x)$\")\n",
        "plt.show"
      ],
      "metadata": {
        "colab": {
          "base_uri": "https://localhost:8080/",
          "height": 317
        },
        "id": "ww1Vu48GbUAc",
        "outputId": "39008f5f-1767-4be3-f7ee-0a165ea1185c"
      },
      "execution_count": 12,
      "outputs": [
        {
          "output_type": "execute_result",
          "data": {
            "text/plain": [
              "<function matplotlib.pyplot.show>"
            ]
          },
          "metadata": {},
          "execution_count": 12
        },
        {
          "output_type": "display_data",
          "data": {
            "text/plain": [
              "<Figure size 432x288 with 1 Axes>"
            ],
            "image/png": "[encoded data removed]"
          },
          "metadata": {
            "needs_background": "light"
          }
        }
      ]
    }
  ]
}